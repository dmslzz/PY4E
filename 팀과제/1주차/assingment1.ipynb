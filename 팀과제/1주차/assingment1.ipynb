{
 "cells": [
  {
   "cell_type": "code",
   "execution_count": 1,
   "metadata": {},
   "outputs": [],
   "source": [
    "#한국 나이를 미국 나이로 변환하는 함수 코딩 작성하기"
   ]
  },
  {
   "cell_type": "code",
   "execution_count": 55,
   "metadata": {},
   "outputs": [
    {
     "name": "stdout",
     "output_type": "stream",
     "text": [
      "본인 한국 나이는 20 살입니다.\n"
     ]
    }
   ],
   "source": [
    "#1) 본인의 한국 나이 입력하기\n",
    "answer_age = int(input(\"한국 나이로 몇 살입니까? ex) 20 :\"))\n",
    "if answer_age < 0 :\n",
    "    answer_age = 0\n",
    "#age에 정보 저장하기\n",
    "age = answer_age\n",
    "print(\"본인 한국 나이는\",age,\"살입니다.\")"
   ]
  },
  {
   "cell_type": "code",
   "execution_count": 56,
   "metadata": {},
   "outputs": [
    {
     "name": "stdout",
     "output_type": "stream",
     "text": [
      "본인은 생일이 지나지 않았습니다.\n"
     ]
    }
   ],
   "source": [
    "#check the birth (0 or 1)\n",
    "answer_birth = int(input(\"생일이 지났습니까? 맞으면 0 아니면 -1 :\"))\n",
    "if answer_birth == 0 :\n",
    "    print(\"본인은 생일이 자났습니다.\")\n",
    "elif answer_birth == -1 :\n",
    "    print(\"본인은 생일이 지나지 않았습니다.\")\n",
    "else :\n",
    "    print(\"birth를 잘못입력했습니다. 다시 입력해주세요.\")\n",
    "\n",
    "birth = answer_birth"
   ]
  },
  {
   "cell_type": "code",
   "execution_count": 54,
   "metadata": {},
   "outputs": [
    {
     "name": "stdout",
     "output_type": "stream",
     "text": [
      "본인의 미국나이는 19 살입니다.\n"
     ]
    }
   ],
   "source": [
    "#한국 나이를 미국 나이로 변환하는 공식 (birth가 0 : 지남 , -1 : 지나지 않음)\n",
    "#age+birth-1 : 실제나이+생일지남여부-1\n",
    "\n",
    "American_age = age+birth-1\n",
    "print(\"본인의 미국나이는\",American_age,\"살입니다.\")"
   ]
  },
  {
   "cell_type": "code",
   "execution_count": 57,
   "metadata": {},
   "outputs": [],
   "source": [
    "#convert_age : function of convert to American age\n",
    "def convert_age() :\n",
    "    answer_age = int(input(\"한국 나이로 몇 살입니까? ex) 20 :\"))\n",
    "    if answer_age < 0 :\n",
    "        answer_age = 0\n",
    "    age = answer_age\n",
    "    print(\"본인 한국 나이는\",age,\"살입니다.\")\n",
    "    \n",
    "    answer_birth = int(input(\"생일이 지났습니까? 맞으면 0 아니면 -1 :\"))\n",
    "    if answer_birth == 0 :\n",
    "        print(\"본인은 생일이 자났습니다.\")\n",
    "    elif answer_birth == -1 :\n",
    "        print(\"본인은 생일이 지나지 않았습니다.\")\n",
    "    else :\n",
    "        print(\"birth를 잘못입력했습니다. 다시 입력해주세요.\")\n",
    "    birth = answer_birth\n",
    "    \n",
    "    American_age = age+birth-1\n",
    "    print(\"최종적으로 본인의 미국나이는\",American_age,\"살입니다.\")   \n"
   ]
  },
  {
   "cell_type": "code",
   "execution_count": 58,
   "metadata": {},
   "outputs": [
    {
     "name": "stdout",
     "output_type": "stream",
     "text": [
      "본인 한국 나이는 20 살입니다.\n",
      "본인은 생일이 지나지 않았습니다.\n",
      "최종적으로 본인의 미국나이는 18 살입니다.\n"
     ]
    }
   ],
   "source": [
    "convert_age()"
   ]
  },
  {
   "cell_type": "code",
   "execution_count": null,
   "metadata": {},
   "outputs": [],
   "source": []
  }
 ],
 "metadata": {
  "kernelspec": {
   "display_name": "Python 3.10.5 64-bit",
   "language": "python",
   "name": "python3"
  },
  "language_info": {
   "codemirror_mode": {
    "name": "ipython",
    "version": 3
   },
   "file_extension": ".py",
   "mimetype": "text/x-python",
   "name": "python",
   "nbconvert_exporter": "python",
   "pygments_lexer": "ipython3",
   "version": "3.10.5"
  },
  "orig_nbformat": 4,
  "vscode": {
   "interpreter": {
    "hash": "aee8b7b246df8f9039afb4144a1f6fd8d2ca17a180786b69acc140d282b71a49"
   }
  }
 },
 "nbformat": 4,
 "nbformat_minor": 2
}
