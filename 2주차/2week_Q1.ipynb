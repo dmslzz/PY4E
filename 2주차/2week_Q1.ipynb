{
 "cells": [
  {
   "cell_type": "markdown",
   "metadata": {},
   "source": [
    "### 팀과제 2주차 _ 설이이모"
   ]
  },
  {
   "cell_type": "markdown",
   "metadata": {},
   "source": [
    "#### 가위바위보"
   ]
  },
  {
   "cell_type": "code",
   "execution_count": 19,
   "metadata": {},
   "outputs": [],
   "source": [
    "#입력값 받기\n",
    "me = int(input(\"가위 : 0 , 바위 : 1 , 보 : 2 중에 숫자로 입력해주세요. : \"))\n",
    "\n",
    "if me != 0 and me != 1 and me != 2 :\n",
    "    print(\"0,1,2 중 하나만 선택할 수 있습니다. 다시 입력해주세요.\")\n",
    "elif me == 0 :\n",
    "    me_text = \"가위\"\n",
    "elif me == 1 :\n",
    "    me_text = \"바위\"\n",
    "else :\n",
    "    me_text = \"보\""
   ]
  },
  {
   "cell_type": "code",
   "execution_count": 23,
   "metadata": {},
   "outputs": [
    {
     "name": "stdout",
     "output_type": "stream",
     "text": [
      "2 보\n"
     ]
    }
   ],
   "source": [
    "print(me , me_text)"
   ]
  },
  {
   "cell_type": "code",
   "execution_count": 24,
   "metadata": {},
   "outputs": [
    {
     "name": "stdout",
     "output_type": "stream",
     "text": [
      "0 가위\n"
     ]
    }
   ],
   "source": [
    "import random\n",
    "computer = random.randint(0,2)\n",
    "\n",
    "if computer == 0 :\n",
    "    computer_text = \"가위\"\n",
    "elif computer == 1 :\n",
    "    computer_text = \"바위\"\n",
    "else :\n",
    "    computer_text = \"보\"\n",
    "    \n",
    "print(computer, computer_text)"
   ]
  },
  {
   "cell_type": "code",
   "execution_count": 28,
   "metadata": {},
   "outputs": [
    {
     "name": "stdout",
     "output_type": "stream",
     "text": [
      " 나 : 보 \n",
      " 컴퓨터 : 가위 \n",
      " 컴퓨터 승리!\n"
     ]
    }
   ],
   "source": [
    "#가위바위보 승리정하기 if문\n",
    "\n",
    "if me == computer :\n",
    "    print(\" 나 :\",me_text, \"\\n 컴퓨터: \",computer_text, \"\\n 무승부!\")\n",
    "elif me != computer and me == 0 and computer == 1 :\n",
    "    print(\" 나 :\",me_text, \"\\n 컴퓨터: \",computer_text, \"\\n 컴퓨터 승리!\")\n",
    "elif me != computer and me == 0 and computer == 2 :\n",
    "    print(\" 나 :\",me_text, \"\\n 컴퓨터: \",computer_text, \"\\n 나 승리!\")\n",
    "elif me != computer and me == 1 and computer == 0 :\n",
    "    print(\" 나 :\",me_text, \"\\n 컴퓨터: \",computer_text, \"\\n 나 승리!\")\n",
    "elif me != computer and me == 1 and computer == 2 :\n",
    "    print(\" 나 :\",me_text, \"\\n 컴퓨터 :\",computer_text, \"\\n 컴퓨터 승리!\")\n",
    "elif me != computer and me == 2 and computer == 0 :\n",
    "    print(\" 나 :\",me_text, \"\\n 컴퓨터 :\",computer_text, \"\\n 컴퓨터 승리!\")\n",
    "else : \n",
    "    print(\" 나 :\",me_text, \"\\n 컴퓨터 :\",computer_text, \"\\n 나 승리!\")\n",
    "\n"
   ]
  },
  {
   "cell_type": "code",
   "execution_count": 8,
   "metadata": {},
   "outputs": [],
   "source": [
    "### 함수로 합치기\n",
    "# rps : rock paper scissors / 가위바위보 함수\n",
    "\n",
    "\n",
    "def rps():\n",
    "    \n",
    "    try : \n",
    "    \n",
    "        #사용자 입력값 받기\n",
    "        me = int(input(\"가위 : 0 , 바위 : 1 , 보 : 2 중에 숫자로 입력해주세요. : \"))\n",
    "\n",
    "        if me != 0 and me != 1 and me != 2 :\n",
    "            print(\"0,1,2 중 하나만 선택할 수 있습니다. 다시 입력해주세요.\")\n",
    "        elif me == 0 :\n",
    "            me_text = \"가위\"\n",
    "        elif me == 1 :\n",
    "            me_text = \"바위\"\n",
    "        else :\n",
    "            me_text = \"보\"\n",
    "        \n",
    "        #컴퓨터 값 생성    \n",
    "        import random\n",
    "        computer = random.randint(0,2)\n",
    "        if computer == 0 :\n",
    "            computer_text = \"가위\"\n",
    "        elif computer == 1 :\n",
    "            computer_text = \"바위\"\n",
    "        else :\n",
    "            computer_text = \"보\"\n",
    "            \n",
    "        #가위바위보 승리정하기 if문\n",
    "        if me == computer :\n",
    "            print(\" 나 :\",me_text, \"\\n 컴퓨터 :\",computer_text, \"\\n 무승부!\")\n",
    "        elif me != computer and me == 0 and computer == 1 :\n",
    "            print(\" 나 :\",me_text, \"\\n 컴퓨터 :\",computer_text, \"\\n 컴퓨터 승리!\")\n",
    "        elif me != computer and me == 0 and computer == 2 :\n",
    "            print(\" 나 :\",me_text, \"\\n 컴퓨터 :\",computer_text, \"\\n 나 승리!\")\n",
    "        elif me != computer and me == 1 and computer == 0 :\n",
    "            print(\" 나 :\",me_text, \"\\n 컴퓨터 :\",computer_text, \"\\n 나 승리!\")\n",
    "        elif me != computer and me == 1 and computer == 2 :\n",
    "            print(\" 나 :\",me_text, \"\\n 컴퓨터 :\",computer_text, \"\\n 컴퓨터 승리!\")\n",
    "        elif me != computer and me == 2 and computer == 0 :\n",
    "            print(\" 나 :\",me_text, \"\\n 컴퓨터 :\",computer_text, \"\\n 컴퓨터 승리!\")\n",
    "        else : \n",
    "            print(\" 나 :\",me_text, \"\\n 컴퓨터 :\",computer_text, \"\\n 나 승리!\")\n",
    "\n",
    "    except :\n",
    "        print(\"잘못입력했습니다.\")"
   ]
  },
  {
   "cell_type": "code",
   "execution_count": 9,
   "metadata": {},
   "outputs": [
    {
     "name": "stdout",
     "output_type": "stream",
     "text": [
      " 나 : 가위 \n",
      " 컴퓨터 : 바위 \n",
      " 컴퓨터 승리!\n"
     ]
    }
   ],
   "source": [
    "rps()"
   ]
  },
  {
   "cell_type": "code",
   "execution_count": null,
   "metadata": {},
   "outputs": [],
   "source": []
  }
 ],
 "metadata": {
  "kernelspec": {
   "display_name": "Python 3.10.5 64-bit",
   "language": "python",
   "name": "python3"
  },
  "language_info": {
   "codemirror_mode": {
    "name": "ipython",
    "version": 3
   },
   "file_extension": ".py",
   "mimetype": "text/x-python",
   "name": "python",
   "nbconvert_exporter": "python",
   "pygments_lexer": "ipython3",
   "version": "3.10.5"
  },
  "orig_nbformat": 4,
  "vscode": {
   "interpreter": {
    "hash": "aee8b7b246df8f9039afb4144a1f6fd8d2ca17a180786b69acc140d282b71a49"
   }
  }
 },
 "nbformat": 4,
 "nbformat_minor": 2
}
