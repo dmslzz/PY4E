{
 "cells": [
  {
   "cell_type": "markdown",
   "metadata": {},
   "source": [
    "### 학점 변환기 만들기"
   ]
  },
  {
   "cell_type": "code",
   "execution_count": 3,
   "metadata": {},
   "outputs": [],
   "source": [
    "# grader : 함수_학점변환기 / input : \"이름\", 성적\n",
    "# name : 학생이름\n",
    "# score : 점수"
   ]
  },
  {
   "cell_type": "code",
   "execution_count": 112,
   "metadata": {},
   "outputs": [],
   "source": [
    "def grader() :\n",
    "    \n",
    "    try :\n",
    "        \n",
    "        answer = (input('이름과 성적을 입력해주세요 ex)아무개,90 : '))\n",
    "        \n",
    "        #입력값 분리해서 name, score으로 정의하기\n",
    "        answer = answer.split(',')\n",
    "        name = answer[0]\n",
    "        score = int(answer[1])\n",
    "        \n",
    "        #grade 성적 결정하기\n",
    "        if score >= 95 and score <= 100 :\n",
    "            grade = \"A+\"\n",
    "        elif score >= 90 and score <= 94 :\n",
    "            grade = \"A\"\n",
    "        elif score >= 85 and score <= 89 :\n",
    "            grade = \"B+\"\n",
    "        elif score >= 80 and score <= 84 :\n",
    "            grade = \"B\"\n",
    "        elif score >= 75 and score <= 79 :\n",
    "            grade = \"C+\"\n",
    "        elif score >= 70 and score <= 74 :\n",
    "            grade = \"C\"\n",
    "        elif score >= 65 and score <= 69 :\n",
    "            grade = \"D+\"\n",
    "        elif score >= 60 and score <= 64 :\n",
    "            grade = \"D\"\n",
    "        else :\n",
    "            grade = \"F\"\n",
    "        \n",
    "        #점수를 0보다 작은 값으로 입력했을 경우를 고려함\n",
    "        if score < 0 :\n",
    "            print(\"성적은 0 이상의 정수형으로 입력해야합니다.\")\n",
    "        else :\n",
    "            print(\"학생이름 :\",name, \"\\n점수 : \",score, \"\\n학점 : \",grade)\n",
    "            \n",
    "    except :\n",
    "        print(\"잘못입력했습니다\")"
   ]
  },
  {
   "cell_type": "code",
   "execution_count": 110,
   "metadata": {},
   "outputs": [
    {
     "name": "stdout",
     "output_type": "stream",
     "text": [
      "성적은 0 이상의 정수형으로 입력해야합니다.\n"
     ]
    }
   ],
   "source": [
    "grader()"
   ]
  },
  {
   "cell_type": "code",
   "execution_count": null,
   "metadata": {},
   "outputs": [],
   "source": []
  },
  {
   "cell_type": "code",
   "execution_count": null,
   "metadata": {},
   "outputs": [],
   "source": []
  }
 ],
 "metadata": {
  "kernelspec": {
   "display_name": "Python 3.10.5 64-bit",
   "language": "python",
   "name": "python3"
  },
  "language_info": {
   "codemirror_mode": {
    "name": "ipython",
    "version": 3
   },
   "file_extension": ".py",
   "mimetype": "text/x-python",
   "name": "python",
   "nbconvert_exporter": "python",
   "pygments_lexer": "ipython3",
   "version": "3.10.5"
  },
  "orig_nbformat": 4,
  "vscode": {
   "interpreter": {
    "hash": "aee8b7b246df8f9039afb4144a1f6fd8d2ca17a180786b69acc140d282b71a49"
   }
  }
 },
 "nbformat": 4,
 "nbformat_minor": 2
}
