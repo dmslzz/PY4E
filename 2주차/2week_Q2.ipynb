{
 "cells": [
  {
   "cell_type": "markdown",
   "metadata": {},
   "source": [
    "### 세전/세후 연봉 계산하기"
   ]
  },
  {
   "cell_type": "code",
   "execution_count": 33,
   "metadata": {},
   "outputs": [],
   "source": [
    "# 기준 : 만원\n",
    "# monthly_payment : 월급\n",
    "# yearly_payment : 함수_ 연봉 계산기\n",
    "# tax : 세금\n",
    "# before_tax : 세전 연봉\n",
    "# after_tax : 세후 연봉"
   ]
  },
  {
   "cell_type": "code",
   "execution_count": 43,
   "metadata": {},
   "outputs": [],
   "source": [
    "def yearly_payment() :\n",
    "\n",
    "    try :\n",
    "    \n",
    "        answer = int(input(\"귀하의 월급을 입력해주세요. \\n단위는 만원입니다. \\nex) 100\" ))\n",
    "        \n",
    "        #m : monthly_payment\n",
    "        #y : yearly_payment\n",
    "        m = answer\n",
    "        y = m * 12\n",
    "        \n",
    "        if m * 12 <= 1200 :\n",
    "            tax = y*0.06\n",
    "        elif m * 12 > 1200 and m * 12 <= 4600 :\n",
    "            tax = y*0.15\n",
    "        elif m * 12 > 4600 and m * 12 <= 8800 :\n",
    "            tax = y*0.24\n",
    "        elif m * 12 > 8800 and m * 12 <= 15000 :\n",
    "            tax = y*0.35\n",
    "        elif m * 12 > 15000 and m * 12 <= 30000 :\n",
    "            tax = y*0.38\n",
    "        elif m * 12 > 30000 and m * 12 <= 50000 :\n",
    "            tax = y*0.4\n",
    "        else :\n",
    "            tax = y*0.42\n",
    "            \n",
    "        before_tax = int(y)\n",
    "        after_tax = int(y - tax)\n",
    "        \n",
    "        print(\"세전 연봉 :\",before_tax,\"\\b만원\",\"\\n세후 연봉 :\",after_tax,\"\\b만원\")\n",
    "    \n",
    "    except :\n",
    "        print(\"잘못입력했습니다.\")"
   ]
  },
  {
   "cell_type": "code",
   "execution_count": 44,
   "metadata": {},
   "outputs": [
    {
     "name": "stdout",
     "output_type": "stream",
     "text": [
      "세전 연봉 : 2400만원 \n",
      "세후 연봉 : 2040만원\n"
     ]
    }
   ],
   "source": [
    "yearly_payment()"
   ]
  },
  {
   "cell_type": "code",
   "execution_count": null,
   "metadata": {},
   "outputs": [],
   "source": []
  }
 ],
 "metadata": {
  "kernelspec": {
   "display_name": "Python 3.10.5 64-bit",
   "language": "python",
   "name": "python3"
  },
  "language_info": {
   "codemirror_mode": {
    "name": "ipython",
    "version": 3
   },
   "file_extension": ".py",
   "mimetype": "text/x-python",
   "name": "python",
   "nbconvert_exporter": "python",
   "pygments_lexer": "ipython3",
   "version": "3.10.5"
  },
  "orig_nbformat": 4,
  "vscode": {
   "interpreter": {
    "hash": "aee8b7b246df8f9039afb4144a1f6fd8d2ca17a180786b69acc140d282b71a49"
   }
  }
 },
 "nbformat": 4,
 "nbformat_minor": 2
}
