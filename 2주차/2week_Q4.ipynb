{
 "cells": [
  {
   "cell_type": "markdown",
   "metadata": {},
   "source": [
    "### 버스 요금 계산기"
   ]
  },
  {
   "cell_type": "code",
   "execution_count": 1,
   "metadata": {},
   "outputs": [],
   "source": [
    "# bus_fare : 함수_버스요금계산기"
   ]
  },
  {
   "cell_type": "code",
   "execution_count": 20,
   "metadata": {},
   "outputs": [],
   "source": [
    "def bus_fare() :\n",
    "    \n",
    "    \n",
    "    try :\n",
    "        answer = input(\"나이와 지불유형(카드/현금)을 입력해주세요. ex) 30,카드 :\")\n",
    "        answer = answer.split(',')\n",
    "        \n",
    "        #age : 나이\n",
    "        #payment : 지불유형 (카드 or 현금)\n",
    "        age = int(answer[0])\n",
    "        payment = str(answer[1])\n",
    "        \n",
    "        #나이가 0보다 작은 값으로 입력했을 경우를 고려함\n",
    "        if age < 0 :\n",
    "            print(\"나이는 0 이상의 정수형으로 입력해야합니다.\")\n",
    "        elif age < 8 :\n",
    "            print(\"나이 :\",age,\"\\b세\",\"\\n지불유형 :\",payment,\"\\n버스요금 :\",\"귀하는 8세 미만으로 무료입니다.\")\n",
    "        elif age >= 8 and age < 14 :\n",
    "            print(\"나이 :\",age,\"\\b세\",\"\\n지불유형 :\",payment,\"\\n버스요금 : 450원\")\n",
    "        elif age >= 14 and age < 20 and payment == \"카드\" :\n",
    "            print(\"나이 :\",age,\"\\b세\",\"\\n지불유형 :\",payment,\"\\n버스요금 : 720원\")\n",
    "        elif age >= 14 and age < 20 and payment == \"현금\" :\n",
    "            print(\"나이 :\",age,\"\\b세\",\"\\n지불유형 :\",payment,\"\\n버스요금 : 1000원\")\n",
    "        elif age >= 20 and payment == \"카드\" :\n",
    "            print(\"나이 :\",age,\"\\b세\",\"\\n지불유형 :\",payment,\"\\n버스요금 : 1200원\")\n",
    "        elif age >= 20 and age <=74 and payment == \"현금\" :\n",
    "            print(\"나이 :\",age,\"\\b세\",\"\\n지불유형 :\",payment,\"\\n버스요금 : 1300원\")\n",
    "        else :\n",
    "            print(\"나이 :\",age,\"\\b세\",\"\\n지불유형 :\",payment,\"\\n버스요금 :\",\"귀하는 75세 이상으로 무료입니다.\")\n",
    "            \n",
    "            \n",
    "    except :\n",
    "        print(\"잘못입력했습니다.\")\n",
    "        "
   ]
  },
  {
   "cell_type": "code",
   "execution_count": 21,
   "metadata": {},
   "outputs": [
    {
     "name": "stdout",
     "output_type": "stream",
     "text": [
      "나이 : 25세 \n",
      "지불유형 : 카드 \n",
      "버스요금 : 1200원\n"
     ]
    }
   ],
   "source": [
    "bus_fare()"
   ]
  },
  {
   "cell_type": "markdown",
   "metadata": {},
   "source": [
    "##### !!!내 코드 수정사항 : if문 범위할때 / print는 간단하게 호출해서 쓰기"
   ]
  },
  {
   "cell_type": "code",
   "execution_count": 1,
   "metadata": {},
   "outputs": [
    {
     "name": "stdout",
     "output_type": "stream",
     "text": [
      "★ 버스요금계산기: 나이와 지불방법을 입력해보세요.\n",
      "버스요금 계산결과:\n",
      "나이: 20\n",
      "지불유형: 카드\n",
      "버스요금: 1200원\n"
     ]
    }
   ],
   "source": [
    "print('★ 버스요금계산기: 나이와 지불방법을 입력해보세요.')\n",
    "age = input(\"당신의 나이는?: \")\n",
    "pay = input(\"지불방법(카드/현금)은?: \")\n",
    "age = int(age)\n",
    "\n",
    "# 버스 요금 계산식\n",
    "def bus_fare(age, payment):\n",
    "    if payment == '카드':\n",
    "        if age < 8:\n",
    "           return '무료'\n",
    "        elif age < 14:\n",
    "            return '450원'\n",
    "        elif age < 20:\n",
    "            return '720원'\n",
    "        elif age < 75:\n",
    "\n",
    "            return '1200원'\n",
    "        else :\n",
    "            return '무료'\n",
    "    else:\n",
    "        if age < 8:\n",
    "               return '무료'\n",
    "        elif age < 14:\n",
    "            return '450원'\n",
    "        elif age < 20:\n",
    "            return '1000원'\n",
    "        elif age < 75:\n",
    "            return '1300원'\n",
    "        else :\n",
    "            return '무료'\n",
    "\n",
    "print('버스요금 계산결과:')\n",
    "print('나이:',age)\n",
    "print('지불유형:',pay)\n",
    "print('버스요금:',bus_fare(age, pay))"
   ]
  },
  {
   "cell_type": "code",
   "execution_count": null,
   "metadata": {},
   "outputs": [],
   "source": []
  }
 ],
 "metadata": {
  "kernelspec": {
   "display_name": "Python 3.10.5 64-bit",
   "language": "python",
   "name": "python3"
  },
  "language_info": {
   "codemirror_mode": {
    "name": "ipython",
    "version": 3
   },
   "file_extension": ".py",
   "mimetype": "text/x-python",
   "name": "python",
   "nbconvert_exporter": "python",
   "pygments_lexer": "ipython3",
   "version": "3.10.5"
  },
  "orig_nbformat": 4,
  "vscode": {
   "interpreter": {
    "hash": "aee8b7b246df8f9039afb4144a1f6fd8d2ca17a180786b69acc140d282b71a49"
   }
  }
 },
 "nbformat": 4,
 "nbformat_minor": 2
}
